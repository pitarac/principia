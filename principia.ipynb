{
  "cells": [
    {
      "cell_type": "markdown",
      "metadata": {
        "id": "view-in-github",
        "colab_type": "text"
      },
      "source": [
        "<a href=\"https://colab.research.google.com/github/pitarac/principia/blob/main/principia.ipynb\" target=\"_parent\"><img src=\"https://colab.research.google.com/assets/colab-badge.svg\" alt=\"Open In Colab\"/></a>"
      ]
    },
    {
      "cell_type": "code",
      "execution_count": null,
      "metadata": {
        "id": "eee12e91"
      },
      "outputs": [],
      "source": [
        "\n",
        "        # Importação das bibliotecas necessárias\n",
        "        import pandas as pd\n",
        "        import numpy as np\n",
        "        import matplotlib.pyplot as plt\n",
        "        from sklearn.model_selection import train_test_split\n",
        "        from sklearn.preprocessing import StandardScaler\n",
        "        from sklearn.metrics import accuracy_score, confusion_matrix, classification_report\n",
        "        from sklearn.ensemble import RandomForestClassifier\n",
        "        import requests\n",
        "        import os\n",
        "        import zipfile\n",
        "        import io\n"
      ]
    },
    {
      "cell_type": "code",
      "execution_count": null,
      "metadata": {
        "id": "dda9643f"
      },
      "outputs": [],
      "source": [
        "\n",
        "        # URL to the ZIP file\n",
        "        url_zip = \"https://datasavvy.com.br/principia/dados_teste_ciencia_dados.zip\"\n",
        "\n",
        "        # Download the ZIP file and save it locally\n",
        "        response = requests.get(url_zip)\n",
        "        with zipfile.ZipFile(io.BytesIO(response.content)) as zip_ref:\n",
        "            zip_ref.extractall(\"data\")\n"
      ]
    },
    {
      "cell_type": "code",
      "execution_count": null,
      "metadata": {
        "id": "965f6cb7"
      },
      "outputs": [],
      "source": [
        "\n",
        "        # Carregamento dos dados\n",
        "        df_alunos = pd.read_csv('data/alunos_teste.csv')\n",
        "        df_acessos = pd.read_csv('data/acessos_conteudo_teste.csv')\n",
        "        df_provas = pd.read_csv('data/provas_teste.csv')\n"
      ]
    },
    {
      "cell_type": "code",
      "execution_count": null,
      "metadata": {
        "id": "_ySlqZkBq91C",
        "colab": {
          "base_uri": "https://localhost:8080/",
          "height": 893
        },
        "outputId": "ad983a65-e3c5-4a84-8ba9-463e54e74ac2"
      },
      "outputs": [
        {
          "output_type": "stream",
          "name": "stdout",
          "text": [
            "          MATRICULA\n",
            "count  1.477825e+06\n",
            "mean   2.020776e+11\n",
            "std    1.455528e+08\n",
            "min    1.995017e+11\n",
            "25%    2.020071e+11\n",
            "50%    2.021073e+11\n",
            "75%    2.022024e+11\n",
            "max    2.022122e+11\n"
          ]
        },
        {
          "output_type": "display_data",
          "data": {
            "text/plain": [
              "<Figure size 1000x1000 with 1 Axes>"
            ],
            "image/png": "[encoded data removed]"
          },
          "metadata": {}
        }
      ],
      "source": [
        "# Análise Exploratória de Dados (EDA)\n",
        "# Estamos gerando estatísticas descritivas e histogramas para cada coluna no df_alunos\n",
        "print(df_alunos.describe())\n",
        "df_alunos.hist(figsize=(10, 10))\n",
        "plt.show()\n"
      ]
    },
    {
      "cell_type": "code",
      "execution_count": null,
      "metadata": {
        "id": "iwU8pSwYq9yV"
      },
      "outputs": [],
      "source": [
        "# Pré-processamento dos dados\n",
        "# Preenchendo valores ausentes com a média e codificando variáveis categóricas\n",
        "df_alunos.fillna(df_alunos.mean(), inplace=True)\n",
        "df_alunos = pd.get_dummies(df_alunos)\n"
      ]
    },
    {
      "cell_type": "code",
      "source": [
        "print(df_alunos.columns)\n",
        "print(df_acessos.columns)\n",
        "print(df_provas.columns)\n",
        "\n"
      ],
      "metadata": {
        "colab": {
          "base_uri": "https://localhost:8080/"
        },
        "id": "64xFhSeZ1tG3",
        "outputId": "304ceca9-39c8-475a-d641-d9c29bfaf034"
      },
      "execution_count": null,
      "outputs": [
        {
          "output_type": "stream",
          "name": "stdout",
          "text": [
            "Index(['MATRICULA', 'DISCIPLINA_ARA0001', 'DISCIPLINA_ARA0002',\n",
            "       'DISCIPLINA_ARA0005', 'DISCIPLINA_ARA0013', 'DISCIPLINA_ARA0014',\n",
            "       'DISCIPLINA_ARA0020', 'DISCIPLINA_ARA0021', 'DISCIPLINA_ARA0033',\n",
            "       'DISCIPLINA_ARA0059',\n",
            "       ...\n",
            "       'DISCIPLINA_SDE4613', 'DISCIPLINA_SDE4618', 'DISCIPLINA_SDE4630',\n",
            "       'DISCIPLINA_SDE4665', 'DISCIPLINA_SDE4732', 'DISCIPLINA_SDE4733',\n",
            "       'DISCIPLINA_SDE5352', 'DISCIPLINA_SDE5353', 'DISCIPLINA_SDE5374',\n",
            "       'DISCIPLINA_SDE5375'],\n",
            "      dtype='object', length=1093)\n",
            "Index(['DATA_HORA_ACESSO', 'TEMPO_ACESSO_MINUTOS', 'MATRICULA', 'DISCIPLINA'], dtype='object')\n",
            "Index(['DATA_HORA_AVALIACAO', 'TIPO_AVALIACAO', 'MATRICULA', 'DISCIPLINA'], dtype='object')\n"
          ]
        }
      ]
    },
    {
      "cell_type": "code",
      "source": [
        "import pandas as pd\n",
        "\n",
        "df_acessos = pd.get_dummies(df_acessos, columns=['DISCIPLINA'])\n",
        "df_provas = pd.get_dummies(df_provas, columns=['DISCIPLINA'])\n"
      ],
      "metadata": {
        "id": "Mao900cd31Ur"
      },
      "execution_count": null,
      "outputs": []
    },
    {
      "cell_type": "code",
      "execution_count": null,
      "metadata": {
        "id": "bY2rBAPuq9lD"
      },
      "outputs": [],
      "source": [
        "# União das tabelas\n",
        "# Estamos unindo df_alunos, df_acessos e df_provas em um único DataFrame\n",
        "df = pd.merge(df_alunos, df_acessos, on='aluno_id')  # 'aluno_id' é a coluna comum\n",
        "df = pd.merge(df, df_provas, on=['aluno_id', 'disciplina_id'])  # 'aluno_id' e 'disciplina_id' são as colunas comuns\n"
      ]
    },
    {
      "cell_type": "code",
      "execution_count": null,
      "metadata": {
        "id": "WaGSk0C2q9TJ"
      },
      "outputs": [],
      "source": [
        "# Normalização dos dados\n",
        "# Estamos escalando as características para que todas estejam na mesma escala\n",
        "scaler = StandardScaler()\n",
        "X = df.drop('evadiu', axis=1)  # Substitua 'evadiu' pela coluna que é seu alvo\n",
        "y = df['evadiu']\n",
        "X_scaled = scaler.fit_transform(X)\n"
      ]
    },
    {
      "cell_type": "code",
      "execution_count": null,
      "metadata": {
        "id": "rwXX0J5NrPbv"
      },
      "outputs": [],
      "source": [
        "# Separação dos dados em treino e teste\n",
        "# Estamos dividindo os dados em um conjunto de treinamento e um conjunto de teste\n",
        "X_train, X_test, y_train, y_test = train_test_split(X_scaled, y, test_size=0.2, random_state=42)\n"
      ]
    },
    {
      "cell_type": "code",
      "execution_count": null,
      "metadata": {
        "id": "OMUNxtBOrPS0"
      },
      "outputs": [],
      "source": [
        "# Seleção do modelo\n",
        "# Estamos escolhendo o RandomForestClassifier como nosso modelo\n",
        "model = RandomForestClassifier()\n"
      ]
    },
    {
      "cell_type": "code",
      "execution_count": null,
      "metadata": {
        "id": "xFJW6JXZrPGv"
      },
      "outputs": [],
      "source": [
        "# Treinamento do modelo\n",
        "# Estamos treinando nosso modelo usando o conjunto de treinamento\n",
        "model.fit(X_train, y_train)\n"
      ]
    },
    {
      "cell_type": "code",
      "execution_count": null,
      "metadata": {
        "id": "pcLocEhurYlr"
      },
      "outputs": [],
      "source": [
        "# Avaliação do modelo\n",
        "# Estamos fazendo previsões com nosso modelo usando o conjunto de teste e então avaliando o desempenho do modelo\n",
        "predictions = model.predict(X_test)\n",
        "print(f'Accuracy: {accuracy_score(y_test, predictions)}')\n",
        "print(confusion_matrix(y_test, predictions))\n",
        "print(classification_report(y_test, predictions))\n"
      ]
    }
  ],
  "metadata": {
    "colab": {
      "provenance": [],
      "include_colab_link": true
    },
    "kernelspec": {
      "display_name": "Python 3",
      "name": "python3"
    },
    "language_info": {
      "name": "python"
    }
  },
  "nbformat": 4,
  "nbformat_minor": 0
}